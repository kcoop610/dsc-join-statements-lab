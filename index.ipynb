{
 "cells": [
  {
   "cell_type": "markdown",
   "metadata": {},
   "source": [
    "# Join Statements - Lab\n",
    "\n",
    "## Introduction\n",
    "\n",
    "In this lab, you'll practice your knowledge of `JOIN` statements, using various types of joins and various methods for specifying the links between them.\n",
    "\n",
    "## Objectives\n",
    "\n",
    "You will be able to:\n",
    "* Write SQL queries that make use of various types of joins\n",
    "* Compare and contrast the various types of joins\n",
    "* Discuss how primary and foreign keys are used in SQL\n",
    "* Decide and perform whichever type of join is best for retrieving desired data"
   ]
  },
  {
   "cell_type": "markdown",
   "metadata": {},
   "source": [
    "## CRM Schema\n",
    "\n",
    "In almost all cases, rather than just working with a single table you will typically need data from multiple tables. \n",
    "Doing this requires the use of **joins** using shared columns from the two tables. \n",
    "\n",
    "In this lab, you'll use the same customer relationship management (CRM) database that you saw from the previous lesson.\n",
    "<img src='images/Database-Schema.png' width=\"600\">"
   ]
  },
  {
   "cell_type": "markdown",
   "metadata": {},
   "source": [
    "## Connecting to the Database\n",
    "Import the necessary packages and connect to the database `'data.sqlite'`."
   ]
  },
  {
   "cell_type": "code",
   "execution_count": 1,
   "metadata": {},
   "outputs": [],
   "source": [
    "import sqlite3\n",
    "conn = sqlite3.connect('data.sqlite')\n",
    "cur = conn.cursor()\n",
    "\n",
    "import pandas as pd\n",
    "\n",
    "def query_to_df(query):\n",
    "    cur.execute(query)\n",
    "    df = pd.DataFrame(cur.fetchall())\n",
    "    df.columns = [x[0] for x in cur.description]\n",
    "    return df"
   ]
  },
  {
   "cell_type": "markdown",
   "metadata": {},
   "source": [
    "## Display the names of all the employees in Boston \n",
    "\n",
    "Hint: join the employees and offices tables."
   ]
  },
  {
   "cell_type": "code",
   "execution_count": 2,
   "metadata": {},
   "outputs": [],
   "source": [
    "cur.description"
   ]
  },
  {
   "cell_type": "code",
   "execution_count": 3,
   "metadata": {},
   "outputs": [
    {
     "data": {
      "text/html": [
       "<div>\n",
       "<style scoped>\n",
       "    .dataframe tbody tr th:only-of-type {\n",
       "        vertical-align: middle;\n",
       "    }\n",
       "\n",
       "    .dataframe tbody tr th {\n",
       "        vertical-align: top;\n",
       "    }\n",
       "\n",
       "    .dataframe thead th {\n",
       "        text-align: right;\n",
       "    }\n",
       "</style>\n",
       "<table border=\"1\" class=\"dataframe\">\n",
       "  <thead>\n",
       "    <tr style=\"text-align: right;\">\n",
       "      <th></th>\n",
       "      <th>lastName</th>\n",
       "      <th>firstName</th>\n",
       "    </tr>\n",
       "  </thead>\n",
       "  <tbody>\n",
       "    <tr>\n",
       "      <th>0</th>\n",
       "      <td>Firrelli</td>\n",
       "      <td>Julie</td>\n",
       "    </tr>\n",
       "    <tr>\n",
       "      <th>1</th>\n",
       "      <td>Patterson</td>\n",
       "      <td>Steve</td>\n",
       "    </tr>\n",
       "  </tbody>\n",
       "</table>\n",
       "</div>"
      ],
      "text/plain": [
       "    lastName firstName\n",
       "0   Firrelli     Julie\n",
       "1  Patterson     Steve"
      ]
     },
     "execution_count": 3,
     "metadata": {},
     "output_type": "execute_result"
    }
   ],
   "source": [
    "query1 = '''SELECT lastName, firstName\n",
    "            FROM employees\n",
    "            JOIN offices \n",
    "            USING(officeCode)\n",
    "            WHERE offices.city='Boston'\n",
    "            ;'''\n",
    "query_to_df(query1)"
   ]
  },
  {
   "cell_type": "markdown",
   "metadata": {},
   "source": [
    "## Are there any offices that have zero employees?\n",
    "Hint: Combine the employees and offices tables and use a group by."
   ]
  },
  {
   "cell_type": "code",
   "execution_count": 4,
   "metadata": {},
   "outputs": [
    {
     "data": {
      "text/html": [
       "<div>\n",
       "<style scoped>\n",
       "    .dataframe tbody tr th:only-of-type {\n",
       "        vertical-align: middle;\n",
       "    }\n",
       "\n",
       "    .dataframe tbody tr th {\n",
       "        vertical-align: top;\n",
       "    }\n",
       "\n",
       "    .dataframe thead th {\n",
       "        text-align: right;\n",
       "    }\n",
       "</style>\n",
       "<table border=\"1\" class=\"dataframe\">\n",
       "  <thead>\n",
       "    <tr style=\"text-align: right;\">\n",
       "      <th></th>\n",
       "      <th>officeCode</th>\n",
       "      <th>total_employees</th>\n",
       "    </tr>\n",
       "  </thead>\n",
       "  <tbody>\n",
       "    <tr>\n",
       "      <th>0</th>\n",
       "      <td>1</td>\n",
       "      <td>6</td>\n",
       "    </tr>\n",
       "    <tr>\n",
       "      <th>1</th>\n",
       "      <td>2</td>\n",
       "      <td>2</td>\n",
       "    </tr>\n",
       "    <tr>\n",
       "      <th>2</th>\n",
       "      <td>3</td>\n",
       "      <td>2</td>\n",
       "    </tr>\n",
       "    <tr>\n",
       "      <th>3</th>\n",
       "      <td>4</td>\n",
       "      <td>5</td>\n",
       "    </tr>\n",
       "    <tr>\n",
       "      <th>4</th>\n",
       "      <td>5</td>\n",
       "      <td>2</td>\n",
       "    </tr>\n",
       "    <tr>\n",
       "      <th>5</th>\n",
       "      <td>6</td>\n",
       "      <td>4</td>\n",
       "    </tr>\n",
       "    <tr>\n",
       "      <th>6</th>\n",
       "      <td>7</td>\n",
       "      <td>2</td>\n",
       "    </tr>\n",
       "    <tr>\n",
       "      <th>7</th>\n",
       "      <td>27</td>\n",
       "      <td>0</td>\n",
       "    </tr>\n",
       "  </tbody>\n",
       "</table>\n",
       "</div>"
      ],
      "text/plain": [
       "   officeCode  total_employees\n",
       "0           1                6\n",
       "1           2                2\n",
       "2           3                2\n",
       "3           4                5\n",
       "4           5                2\n",
       "5           6                4\n",
       "6           7                2\n",
       "7          27                0"
      ]
     },
     "execution_count": 4,
     "metadata": {},
     "output_type": "execute_result"
    }
   ],
   "source": [
    "query2 = '''SELECT officeCode, COUNT(employeeNumber) AS total_employees\n",
    "            FROM offices\n",
    "            LEFT JOIN employees\n",
    "            USING(officeCode)\n",
    "            GROUP BY officeCode\n",
    "            ;'''\n",
    "query_to_df(query2)"
   ]
  },
  {
   "cell_type": "markdown",
   "metadata": {},
   "source": [
    "## Write 3 Questions of your own and answer them"
   ]
  },
  {
   "cell_type": "code",
   "execution_count": 5,
   "metadata": {},
   "outputs": [],
   "source": [
    "# Answers will vary\n",
    "# Example: Display the htmlDescription and employee's first and last name for each product that each employee has sold"
   ]
  },
  {
   "cell_type": "code",
   "execution_count": 19,
   "metadata": {
    "scrolled": true
   },
   "outputs": [
    {
     "data": {
      "text/html": [
       "<div>\n",
       "<style scoped>\n",
       "    .dataframe tbody tr th:only-of-type {\n",
       "        vertical-align: middle;\n",
       "    }\n",
       "\n",
       "    .dataframe tbody tr th {\n",
       "        vertical-align: top;\n",
       "    }\n",
       "\n",
       "    .dataframe thead th {\n",
       "        text-align: right;\n",
       "    }\n",
       "</style>\n",
       "<table border=\"1\" class=\"dataframe\">\n",
       "  <thead>\n",
       "    <tr style=\"text-align: right;\">\n",
       "      <th></th>\n",
       "      <th>firstName</th>\n",
       "      <th>lastName</th>\n",
       "      <th>total_revenue</th>\n",
       "      <th>num_transactions</th>\n",
       "      <th>average</th>\n",
       "    </tr>\n",
       "  </thead>\n",
       "  <tbody>\n",
       "    <tr>\n",
       "      <th>0</th>\n",
       "      <td>Gerard</td>\n",
       "      <td>Hernandez</td>\n",
       "      <td>1112003.81</td>\n",
       "      <td>29</td>\n",
       "      <td>38344.958966</td>\n",
       "    </tr>\n",
       "    <tr>\n",
       "      <th>1</th>\n",
       "      <td>Leslie</td>\n",
       "      <td>Jennings</td>\n",
       "      <td>989906.55</td>\n",
       "      <td>21</td>\n",
       "      <td>47138.407143</td>\n",
       "    </tr>\n",
       "    <tr>\n",
       "      <th>2</th>\n",
       "      <td>Pamela</td>\n",
       "      <td>Castillo</td>\n",
       "      <td>750201.87</td>\n",
       "      <td>27</td>\n",
       "      <td>27785.254444</td>\n",
       "    </tr>\n",
       "    <tr>\n",
       "      <th>3</th>\n",
       "      <td>Larry</td>\n",
       "      <td>Bott</td>\n",
       "      <td>686653.25</td>\n",
       "      <td>21</td>\n",
       "      <td>32697.773810</td>\n",
       "    </tr>\n",
       "    <tr>\n",
       "      <th>4</th>\n",
       "      <td>Barry</td>\n",
       "      <td>Jones</td>\n",
       "      <td>637672.65</td>\n",
       "      <td>21</td>\n",
       "      <td>30365.364286</td>\n",
       "    </tr>\n",
       "    <tr>\n",
       "      <th>5</th>\n",
       "      <td>George</td>\n",
       "      <td>Vanauf</td>\n",
       "      <td>584406.80</td>\n",
       "      <td>20</td>\n",
       "      <td>29220.340000</td>\n",
       "    </tr>\n",
       "    <tr>\n",
       "      <th>6</th>\n",
       "      <td>Loui</td>\n",
       "      <td>Bondur</td>\n",
       "      <td>569485.75</td>\n",
       "      <td>19</td>\n",
       "      <td>29972.934211</td>\n",
       "    </tr>\n",
       "    <tr>\n",
       "      <th>7</th>\n",
       "      <td>Andy</td>\n",
       "      <td>Fixter</td>\n",
       "      <td>509385.82</td>\n",
       "      <td>16</td>\n",
       "      <td>31836.613750</td>\n",
       "    </tr>\n",
       "    <tr>\n",
       "      <th>8</th>\n",
       "      <td>Peter</td>\n",
       "      <td>Marsh</td>\n",
       "      <td>497907.16</td>\n",
       "      <td>14</td>\n",
       "      <td>35564.797143</td>\n",
       "    </tr>\n",
       "    <tr>\n",
       "      <th>9</th>\n",
       "      <td>Foon Yue</td>\n",
       "      <td>Tseng</td>\n",
       "      <td>488212.67</td>\n",
       "      <td>17</td>\n",
       "      <td>28718.392353</td>\n",
       "    </tr>\n",
       "    <tr>\n",
       "      <th>10</th>\n",
       "      <td>Mami</td>\n",
       "      <td>Nishi</td>\n",
       "      <td>457110.07</td>\n",
       "      <td>14</td>\n",
       "      <td>32650.719286</td>\n",
       "    </tr>\n",
       "    <tr>\n",
       "      <th>11</th>\n",
       "      <td>Steve</td>\n",
       "      <td>Patterson</td>\n",
       "      <td>449219.13</td>\n",
       "      <td>15</td>\n",
       "      <td>29947.942000</td>\n",
       "    </tr>\n",
       "    <tr>\n",
       "      <th>12</th>\n",
       "      <td>Martin</td>\n",
       "      <td>Gerard</td>\n",
       "      <td>387477.47</td>\n",
       "      <td>12</td>\n",
       "      <td>32289.789167</td>\n",
       "    </tr>\n",
       "    <tr>\n",
       "      <th>13</th>\n",
       "      <td>Julie</td>\n",
       "      <td>Firrelli</td>\n",
       "      <td>386663.20</td>\n",
       "      <td>14</td>\n",
       "      <td>27618.800000</td>\n",
       "    </tr>\n",
       "    <tr>\n",
       "      <th>14</th>\n",
       "      <td>Leslie</td>\n",
       "      <td>Thompson</td>\n",
       "      <td>347533.03</td>\n",
       "      <td>13</td>\n",
       "      <td>26733.310000</td>\n",
       "    </tr>\n",
       "    <tr>\n",
       "      <th>15</th>\n",
       "      <td>Yoshimi</td>\n",
       "      <td>Kato</td>\n",
       "      <td>NaN</td>\n",
       "      <td>0</td>\n",
       "      <td>NaN</td>\n",
       "    </tr>\n",
       "    <tr>\n",
       "      <th>16</th>\n",
       "      <td>Tom</td>\n",
       "      <td>King</td>\n",
       "      <td>NaN</td>\n",
       "      <td>0</td>\n",
       "      <td>NaN</td>\n",
       "    </tr>\n",
       "    <tr>\n",
       "      <th>17</th>\n",
       "      <td>Anthony</td>\n",
       "      <td>Bow</td>\n",
       "      <td>NaN</td>\n",
       "      <td>0</td>\n",
       "      <td>NaN</td>\n",
       "    </tr>\n",
       "    <tr>\n",
       "      <th>18</th>\n",
       "      <td>Gerard</td>\n",
       "      <td>Bondur</td>\n",
       "      <td>NaN</td>\n",
       "      <td>0</td>\n",
       "      <td>NaN</td>\n",
       "    </tr>\n",
       "    <tr>\n",
       "      <th>19</th>\n",
       "      <td>William</td>\n",
       "      <td>Patterson</td>\n",
       "      <td>NaN</td>\n",
       "      <td>0</td>\n",
       "      <td>NaN</td>\n",
       "    </tr>\n",
       "    <tr>\n",
       "      <th>20</th>\n",
       "      <td>Jeff</td>\n",
       "      <td>Firrelli</td>\n",
       "      <td>NaN</td>\n",
       "      <td>0</td>\n",
       "      <td>NaN</td>\n",
       "    </tr>\n",
       "    <tr>\n",
       "      <th>21</th>\n",
       "      <td>Mary</td>\n",
       "      <td>Patterson</td>\n",
       "      <td>NaN</td>\n",
       "      <td>0</td>\n",
       "      <td>NaN</td>\n",
       "    </tr>\n",
       "    <tr>\n",
       "      <th>22</th>\n",
       "      <td>Diane</td>\n",
       "      <td>Murphy</td>\n",
       "      <td>NaN</td>\n",
       "      <td>0</td>\n",
       "      <td>NaN</td>\n",
       "    </tr>\n",
       "  </tbody>\n",
       "</table>\n",
       "</div>"
      ],
      "text/plain": [
       "   firstName   lastName  total_revenue  num_transactions       average\n",
       "0     Gerard  Hernandez     1112003.81                29  38344.958966\n",
       "1     Leslie   Jennings      989906.55                21  47138.407143\n",
       "2     Pamela   Castillo      750201.87                27  27785.254444\n",
       "3      Larry       Bott      686653.25                21  32697.773810\n",
       "4      Barry      Jones      637672.65                21  30365.364286\n",
       "5     George     Vanauf      584406.80                20  29220.340000\n",
       "6       Loui     Bondur      569485.75                19  29972.934211\n",
       "7       Andy     Fixter      509385.82                16  31836.613750\n",
       "8      Peter      Marsh      497907.16                14  35564.797143\n",
       "9   Foon Yue      Tseng      488212.67                17  28718.392353\n",
       "10      Mami      Nishi      457110.07                14  32650.719286\n",
       "11     Steve  Patterson      449219.13                15  29947.942000\n",
       "12    Martin     Gerard      387477.47                12  32289.789167\n",
       "13     Julie   Firrelli      386663.20                14  27618.800000\n",
       "14    Leslie   Thompson      347533.03                13  26733.310000\n",
       "15   Yoshimi       Kato            NaN                 0           NaN\n",
       "16       Tom       King            NaN                 0           NaN\n",
       "17   Anthony        Bow            NaN                 0           NaN\n",
       "18    Gerard     Bondur            NaN                 0           NaN\n",
       "19   William  Patterson            NaN                 0           NaN\n",
       "20      Jeff   Firrelli            NaN                 0           NaN\n",
       "21      Mary  Patterson            NaN                 0           NaN\n",
       "22     Diane     Murphy            NaN                 0           NaN"
      ]
     },
     "execution_count": 19,
     "metadata": {},
     "output_type": "execute_result"
    }
   ],
   "source": [
    "# How much revenue has each employee brought in\n",
    "\n",
    "query4 = '''SELECT e.firstName, e.lastName, SUM(p.amount) AS total_revenue, COUNT(p.checkNumber) AS num_transactions\n",
    "            FROM employees e\n",
    "            LEFT JOIN customers c ON e.employeeNumber = c.salesRepEmployeeNumber\n",
    "            LEFT JOIN payments p USING(customerNumber)\n",
    "            GROUP BY e.employeeNumber\n",
    "            ORDER BY total_revenue DESC\n",
    "            ;'''\n",
    "query4_df = query_to_df(query4)\n",
    "query4_df['average'] = query4_df['total_revenue']/query4_df['num_transactions']\n",
    "query4_df\n"
   ]
  },
  {
   "cell_type": "code",
   "execution_count": 22,
   "metadata": {},
   "outputs": [
    {
     "data": {
      "application/vnd.plotly.v1+json": {
       "config": {
        "plotlyServerURL": "https://plot.ly"
       },
       "data": [
        {
         "hovertemplate": "firstName=Gerard<br>num_transactions=%{x}<br>total_revenue=%{y}<br>average=%{marker.size}<extra></extra>",
         "legendgroup": "Gerard",
         "marker": {
          "color": "#636efa",
          "size": [
           38344.95896551724
          ],
          "sizemode": "area",
          "sizeref": 117.84601785714287,
          "symbol": "circle"
         },
         "mode": "markers",
         "name": "Gerard",
         "orientation": "v",
         "showlegend": true,
         "type": "scatter",
         "x": [
          29
         ],
         "xaxis": "x",
         "y": [
          1112003.8099999998
         ],
         "yaxis": "y"
        },
        {
         "hovertemplate": "firstName=Leslie<br>num_transactions=%{x}<br>total_revenue=%{y}<br>average=%{marker.size}<extra></extra>",
         "legendgroup": "Leslie",
         "marker": {
          "color": "#EF553B",
          "size": [
           47138.40714285715,
           26733.31
          ],
          "sizemode": "area",
          "sizeref": 117.84601785714287,
          "symbol": "circle"
         },
         "mode": "markers",
         "name": "Leslie",
         "orientation": "v",
         "showlegend": true,
         "type": "scatter",
         "x": [
          21,
          13
         ],
         "xaxis": "x",
         "y": [
          989906.5500000002,
          347533.03
         ],
         "yaxis": "y"
        },
        {
         "hovertemplate": "firstName=Pamela<br>num_transactions=%{x}<br>total_revenue=%{y}<br>average=%{marker.size}<extra></extra>",
         "legendgroup": "Pamela",
         "marker": {
          "color": "#00cc96",
          "size": [
           27785.254444444443
          ],
          "sizemode": "area",
          "sizeref": 117.84601785714287,
          "symbol": "circle"
         },
         "mode": "markers",
         "name": "Pamela",
         "orientation": "v",
         "showlegend": true,
         "type": "scatter",
         "x": [
          27
         ],
         "xaxis": "x",
         "y": [
          750201.87
         ],
         "yaxis": "y"
        },
        {
         "hovertemplate": "firstName=Larry<br>num_transactions=%{x}<br>total_revenue=%{y}<br>average=%{marker.size}<extra></extra>",
         "legendgroup": "Larry",
         "marker": {
          "color": "#ab63fa",
          "size": [
           32697.77380952381
          ],
          "sizemode": "area",
          "sizeref": 117.84601785714287,
          "symbol": "circle"
         },
         "mode": "markers",
         "name": "Larry",
         "orientation": "v",
         "showlegend": true,
         "type": "scatter",
         "x": [
          21
         ],
         "xaxis": "x",
         "y": [
          686653.25
         ],
         "yaxis": "y"
        },
        {
         "hovertemplate": "firstName=Barry<br>num_transactions=%{x}<br>total_revenue=%{y}<br>average=%{marker.size}<extra></extra>",
         "legendgroup": "Barry",
         "marker": {
          "color": "#FFA15A",
          "size": [
           30365.364285714288
          ],
          "sizemode": "area",
          "sizeref": 117.84601785714287,
          "symbol": "circle"
         },
         "mode": "markers",
         "name": "Barry",
         "orientation": "v",
         "showlegend": true,
         "type": "scatter",
         "x": [
          21
         ],
         "xaxis": "x",
         "y": [
          637672.65
         ],
         "yaxis": "y"
        },
        {
         "hovertemplate": "firstName=George<br>num_transactions=%{x}<br>total_revenue=%{y}<br>average=%{marker.size}<extra></extra>",
         "legendgroup": "George",
         "marker": {
          "color": "#19d3f3",
          "size": [
           29220.339999999997
          ],
          "sizemode": "area",
          "sizeref": 117.84601785714287,
          "symbol": "circle"
         },
         "mode": "markers",
         "name": "George",
         "orientation": "v",
         "showlegend": true,
         "type": "scatter",
         "x": [
          20
         ],
         "xaxis": "x",
         "y": [
          584406.7999999999
         ],
         "yaxis": "y"
        },
        {
         "hovertemplate": "firstName=Loui<br>num_transactions=%{x}<br>total_revenue=%{y}<br>average=%{marker.size}<extra></extra>",
         "legendgroup": "Loui",
         "marker": {
          "color": "#FF6692",
          "size": [
           29972.934210526317
          ],
          "sizemode": "area",
          "sizeref": 117.84601785714287,
          "symbol": "circle"
         },
         "mode": "markers",
         "name": "Loui",
         "orientation": "v",
         "showlegend": true,
         "type": "scatter",
         "x": [
          19
         ],
         "xaxis": "x",
         "y": [
          569485.75
         ],
         "yaxis": "y"
        },
        {
         "hovertemplate": "firstName=Andy<br>num_transactions=%{x}<br>total_revenue=%{y}<br>average=%{marker.size}<extra></extra>",
         "legendgroup": "Andy",
         "marker": {
          "color": "#B6E880",
          "size": [
           31836.613749999997
          ],
          "sizemode": "area",
          "sizeref": 117.84601785714287,
          "symbol": "circle"
         },
         "mode": "markers",
         "name": "Andy",
         "orientation": "v",
         "showlegend": true,
         "type": "scatter",
         "x": [
          16
         ],
         "xaxis": "x",
         "y": [
          509385.81999999995
         ],
         "yaxis": "y"
        },
        {
         "hovertemplate": "firstName=Peter<br>num_transactions=%{x}<br>total_revenue=%{y}<br>average=%{marker.size}<extra></extra>",
         "legendgroup": "Peter",
         "marker": {
          "color": "#FF97FF",
          "size": [
           35564.79714285715
          ],
          "sizemode": "area",
          "sizeref": 117.84601785714287,
          "symbol": "circle"
         },
         "mode": "markers",
         "name": "Peter",
         "orientation": "v",
         "showlegend": true,
         "type": "scatter",
         "x": [
          14
         ],
         "xaxis": "x",
         "y": [
          497907.16000000003
         ],
         "yaxis": "y"
        },
        {
         "hovertemplate": "firstName=Foon Yue<br>num_transactions=%{x}<br>total_revenue=%{y}<br>average=%{marker.size}<extra></extra>",
         "legendgroup": "Foon Yue",
         "marker": {
          "color": "#FECB52",
          "size": [
           28718.392352941177
          ],
          "sizemode": "area",
          "sizeref": 117.84601785714287,
          "symbol": "circle"
         },
         "mode": "markers",
         "name": "Foon Yue",
         "orientation": "v",
         "showlegend": true,
         "type": "scatter",
         "x": [
          17
         ],
         "xaxis": "x",
         "y": [
          488212.67
         ],
         "yaxis": "y"
        },
        {
         "hovertemplate": "firstName=Mami<br>num_transactions=%{x}<br>total_revenue=%{y}<br>average=%{marker.size}<extra></extra>",
         "legendgroup": "Mami",
         "marker": {
          "color": "#636efa",
          "size": [
           32650.719285714284
          ],
          "sizemode": "area",
          "sizeref": 117.84601785714287,
          "symbol": "circle"
         },
         "mode": "markers",
         "name": "Mami",
         "orientation": "v",
         "showlegend": true,
         "type": "scatter",
         "x": [
          14
         ],
         "xaxis": "x",
         "y": [
          457110.06999999995
         ],
         "yaxis": "y"
        },
        {
         "hovertemplate": "firstName=Steve<br>num_transactions=%{x}<br>total_revenue=%{y}<br>average=%{marker.size}<extra></extra>",
         "legendgroup": "Steve",
         "marker": {
          "color": "#EF553B",
          "size": [
           29947.942000000003
          ],
          "sizemode": "area",
          "sizeref": 117.84601785714287,
          "symbol": "circle"
         },
         "mode": "markers",
         "name": "Steve",
         "orientation": "v",
         "showlegend": true,
         "type": "scatter",
         "x": [
          15
         ],
         "xaxis": "x",
         "y": [
          449219.13000000006
         ],
         "yaxis": "y"
        },
        {
         "hovertemplate": "firstName=Martin<br>num_transactions=%{x}<br>total_revenue=%{y}<br>average=%{marker.size}<extra></extra>",
         "legendgroup": "Martin",
         "marker": {
          "color": "#00cc96",
          "size": [
           32289.789166666666
          ],
          "sizemode": "area",
          "sizeref": 117.84601785714287,
          "symbol": "circle"
         },
         "mode": "markers",
         "name": "Martin",
         "orientation": "v",
         "showlegend": true,
         "type": "scatter",
         "x": [
          12
         ],
         "xaxis": "x",
         "y": [
          387477.47
         ],
         "yaxis": "y"
        },
        {
         "hovertemplate": "firstName=Julie<br>num_transactions=%{x}<br>total_revenue=%{y}<br>average=%{marker.size}<extra></extra>",
         "legendgroup": "Julie",
         "marker": {
          "color": "#ab63fa",
          "size": [
           27618.799999999996
          ],
          "sizemode": "area",
          "sizeref": 117.84601785714287,
          "symbol": "circle"
         },
         "mode": "markers",
         "name": "Julie",
         "orientation": "v",
         "showlegend": true,
         "type": "scatter",
         "x": [
          14
         ],
         "xaxis": "x",
         "y": [
          386663.19999999995
         ],
         "yaxis": "y"
        }
       ],
       "layout": {
        "legend": {
         "itemsizing": "constant",
         "title": {
          "text": "firstName"
         },
         "tracegroupgap": 0
        },
        "margin": {
         "t": 60
        },
        "template": {
         "data": {
          "bar": [
           {
            "error_x": {
             "color": "#2a3f5f"
            },
            "error_y": {
             "color": "#2a3f5f"
            },
            "marker": {
             "line": {
              "color": "#E5ECF6",
              "width": 0.5
             }
            },
            "type": "bar"
           }
          ],
          "barpolar": [
           {
            "marker": {
             "line": {
              "color": "#E5ECF6",
              "width": 0.5
             }
            },
            "type": "barpolar"
           }
          ],
          "carpet": [
           {
            "aaxis": {
             "endlinecolor": "#2a3f5f",
             "gridcolor": "white",
             "linecolor": "white",
             "minorgridcolor": "white",
             "startlinecolor": "#2a3f5f"
            },
            "baxis": {
             "endlinecolor": "#2a3f5f",
             "gridcolor": "white",
             "linecolor": "white",
             "minorgridcolor": "white",
             "startlinecolor": "#2a3f5f"
            },
            "type": "carpet"
           }
          ],
          "choropleth": [
           {
            "colorbar": {
             "outlinewidth": 0,
             "ticks": ""
            },
            "type": "choropleth"
           }
          ],
          "contour": [
           {
            "colorbar": {
             "outlinewidth": 0,
             "ticks": ""
            },
            "colorscale": [
             [
              0,
              "#0d0887"
             ],
             [
              0.1111111111111111,
              "#46039f"
             ],
             [
              0.2222222222222222,
              "#7201a8"
             ],
             [
              0.3333333333333333,
              "#9c179e"
             ],
             [
              0.4444444444444444,
              "#bd3786"
             ],
             [
              0.5555555555555556,
              "#d8576b"
             ],
             [
              0.6666666666666666,
              "#ed7953"
             ],
             [
              0.7777777777777778,
              "#fb9f3a"
             ],
             [
              0.8888888888888888,
              "#fdca26"
             ],
             [
              1,
              "#f0f921"
             ]
            ],
            "type": "contour"
           }
          ],
          "contourcarpet": [
           {
            "colorbar": {
             "outlinewidth": 0,
             "ticks": ""
            },
            "type": "contourcarpet"
           }
          ],
          "heatmap": [
           {
            "colorbar": {
             "outlinewidth": 0,
             "ticks": ""
            },
            "colorscale": [
             [
              0,
              "#0d0887"
             ],
             [
              0.1111111111111111,
              "#46039f"
             ],
             [
              0.2222222222222222,
              "#7201a8"
             ],
             [
              0.3333333333333333,
              "#9c179e"
             ],
             [
              0.4444444444444444,
              "#bd3786"
             ],
             [
              0.5555555555555556,
              "#d8576b"
             ],
             [
              0.6666666666666666,
              "#ed7953"
             ],
             [
              0.7777777777777778,
              "#fb9f3a"
             ],
             [
              0.8888888888888888,
              "#fdca26"
             ],
             [
              1,
              "#f0f921"
             ]
            ],
            "type": "heatmap"
           }
          ],
          "heatmapgl": [
           {
            "colorbar": {
             "outlinewidth": 0,
             "ticks": ""
            },
            "colorscale": [
             [
              0,
              "#0d0887"
             ],
             [
              0.1111111111111111,
              "#46039f"
             ],
             [
              0.2222222222222222,
              "#7201a8"
             ],
             [
              0.3333333333333333,
              "#9c179e"
             ],
             [
              0.4444444444444444,
              "#bd3786"
             ],
             [
              0.5555555555555556,
              "#d8576b"
             ],
             [
              0.6666666666666666,
              "#ed7953"
             ],
             [
              0.7777777777777778,
              "#fb9f3a"
             ],
             [
              0.8888888888888888,
              "#fdca26"
             ],
             [
              1,
              "#f0f921"
             ]
            ],
            "type": "heatmapgl"
           }
          ],
          "histogram": [
           {
            "marker": {
             "colorbar": {
              "outlinewidth": 0,
              "ticks": ""
             }
            },
            "type": "histogram"
           }
          ],
          "histogram2d": [
           {
            "colorbar": {
             "outlinewidth": 0,
             "ticks": ""
            },
            "colorscale": [
             [
              0,
              "#0d0887"
             ],
             [
              0.1111111111111111,
              "#46039f"
             ],
             [
              0.2222222222222222,
              "#7201a8"
             ],
             [
              0.3333333333333333,
              "#9c179e"
             ],
             [
              0.4444444444444444,
              "#bd3786"
             ],
             [
              0.5555555555555556,
              "#d8576b"
             ],
             [
              0.6666666666666666,
              "#ed7953"
             ],
             [
              0.7777777777777778,
              "#fb9f3a"
             ],
             [
              0.8888888888888888,
              "#fdca26"
             ],
             [
              1,
              "#f0f921"
             ]
            ],
            "type": "histogram2d"
           }
          ],
          "histogram2dcontour": [
           {
            "colorbar": {
             "outlinewidth": 0,
             "ticks": ""
            },
            "colorscale": [
             [
              0,
              "#0d0887"
             ],
             [
              0.1111111111111111,
              "#46039f"
             ],
             [
              0.2222222222222222,
              "#7201a8"
             ],
             [
              0.3333333333333333,
              "#9c179e"
             ],
             [
              0.4444444444444444,
              "#bd3786"
             ],
             [
              0.5555555555555556,
              "#d8576b"
             ],
             [
              0.6666666666666666,
              "#ed7953"
             ],
             [
              0.7777777777777778,
              "#fb9f3a"
             ],
             [
              0.8888888888888888,
              "#fdca26"
             ],
             [
              1,
              "#f0f921"
             ]
            ],
            "type": "histogram2dcontour"
           }
          ],
          "mesh3d": [
           {
            "colorbar": {
             "outlinewidth": 0,
             "ticks": ""
            },
            "type": "mesh3d"
           }
          ],
          "parcoords": [
           {
            "line": {
             "colorbar": {
              "outlinewidth": 0,
              "ticks": ""
             }
            },
            "type": "parcoords"
           }
          ],
          "pie": [
           {
            "automargin": true,
            "type": "pie"
           }
          ],
          "scatter": [
           {
            "marker": {
             "colorbar": {
              "outlinewidth": 0,
              "ticks": ""
             }
            },
            "type": "scatter"
           }
          ],
          "scatter3d": [
           {
            "line": {
             "colorbar": {
              "outlinewidth": 0,
              "ticks": ""
             }
            },
            "marker": {
             "colorbar": {
              "outlinewidth": 0,
              "ticks": ""
             }
            },
            "type": "scatter3d"
           }
          ],
          "scattercarpet": [
           {
            "marker": {
             "colorbar": {
              "outlinewidth": 0,
              "ticks": ""
             }
            },
            "type": "scattercarpet"
           }
          ],
          "scattergeo": [
           {
            "marker": {
             "colorbar": {
              "outlinewidth": 0,
              "ticks": ""
             }
            },
            "type": "scattergeo"
           }
          ],
          "scattergl": [
           {
            "marker": {
             "colorbar": {
              "outlinewidth": 0,
              "ticks": ""
             }
            },
            "type": "scattergl"
           }
          ],
          "scattermapbox": [
           {
            "marker": {
             "colorbar": {
              "outlinewidth": 0,
              "ticks": ""
             }
            },
            "type": "scattermapbox"
           }
          ],
          "scatterpolar": [
           {
            "marker": {
             "colorbar": {
              "outlinewidth": 0,
              "ticks": ""
             }
            },
            "type": "scatterpolar"
           }
          ],
          "scatterpolargl": [
           {
            "marker": {
             "colorbar": {
              "outlinewidth": 0,
              "ticks": ""
             }
            },
            "type": "scatterpolargl"
           }
          ],
          "scatterternary": [
           {
            "marker": {
             "colorbar": {
              "outlinewidth": 0,
              "ticks": ""
             }
            },
            "type": "scatterternary"
           }
          ],
          "surface": [
           {
            "colorbar": {
             "outlinewidth": 0,
             "ticks": ""
            },
            "colorscale": [
             [
              0,
              "#0d0887"
             ],
             [
              0.1111111111111111,
              "#46039f"
             ],
             [
              0.2222222222222222,
              "#7201a8"
             ],
             [
              0.3333333333333333,
              "#9c179e"
             ],
             [
              0.4444444444444444,
              "#bd3786"
             ],
             [
              0.5555555555555556,
              "#d8576b"
             ],
             [
              0.6666666666666666,
              "#ed7953"
             ],
             [
              0.7777777777777778,
              "#fb9f3a"
             ],
             [
              0.8888888888888888,
              "#fdca26"
             ],
             [
              1,
              "#f0f921"
             ]
            ],
            "type": "surface"
           }
          ],
          "table": [
           {
            "cells": {
             "fill": {
              "color": "#EBF0F8"
             },
             "line": {
              "color": "white"
             }
            },
            "header": {
             "fill": {
              "color": "#C8D4E3"
             },
             "line": {
              "color": "white"
             }
            },
            "type": "table"
           }
          ]
         },
         "layout": {
          "annotationdefaults": {
           "arrowcolor": "#2a3f5f",
           "arrowhead": 0,
           "arrowwidth": 1
          },
          "coloraxis": {
           "colorbar": {
            "outlinewidth": 0,
            "ticks": ""
           }
          },
          "colorscale": {
           "diverging": [
            [
             0,
             "#8e0152"
            ],
            [
             0.1,
             "#c51b7d"
            ],
            [
             0.2,
             "#de77ae"
            ],
            [
             0.3,
             "#f1b6da"
            ],
            [
             0.4,
             "#fde0ef"
            ],
            [
             0.5,
             "#f7f7f7"
            ],
            [
             0.6,
             "#e6f5d0"
            ],
            [
             0.7,
             "#b8e186"
            ],
            [
             0.8,
             "#7fbc41"
            ],
            [
             0.9,
             "#4d9221"
            ],
            [
             1,
             "#276419"
            ]
           ],
           "sequential": [
            [
             0,
             "#0d0887"
            ],
            [
             0.1111111111111111,
             "#46039f"
            ],
            [
             0.2222222222222222,
             "#7201a8"
            ],
            [
             0.3333333333333333,
             "#9c179e"
            ],
            [
             0.4444444444444444,
             "#bd3786"
            ],
            [
             0.5555555555555556,
             "#d8576b"
            ],
            [
             0.6666666666666666,
             "#ed7953"
            ],
            [
             0.7777777777777778,
             "#fb9f3a"
            ],
            [
             0.8888888888888888,
             "#fdca26"
            ],
            [
             1,
             "#f0f921"
            ]
           ],
           "sequentialminus": [
            [
             0,
             "#0d0887"
            ],
            [
             0.1111111111111111,
             "#46039f"
            ],
            [
             0.2222222222222222,
             "#7201a8"
            ],
            [
             0.3333333333333333,
             "#9c179e"
            ],
            [
             0.4444444444444444,
             "#bd3786"
            ],
            [
             0.5555555555555556,
             "#d8576b"
            ],
            [
             0.6666666666666666,
             "#ed7953"
            ],
            [
             0.7777777777777778,
             "#fb9f3a"
            ],
            [
             0.8888888888888888,
             "#fdca26"
            ],
            [
             1,
             "#f0f921"
            ]
           ]
          },
          "colorway": [
           "#636efa",
           "#EF553B",
           "#00cc96",
           "#ab63fa",
           "#FFA15A",
           "#19d3f3",
           "#FF6692",
           "#B6E880",
           "#FF97FF",
           "#FECB52"
          ],
          "font": {
           "color": "#2a3f5f"
          },
          "geo": {
           "bgcolor": "white",
           "lakecolor": "white",
           "landcolor": "#E5ECF6",
           "showlakes": true,
           "showland": true,
           "subunitcolor": "white"
          },
          "hoverlabel": {
           "align": "left"
          },
          "hovermode": "closest",
          "mapbox": {
           "style": "light"
          },
          "paper_bgcolor": "white",
          "plot_bgcolor": "#E5ECF6",
          "polar": {
           "angularaxis": {
            "gridcolor": "white",
            "linecolor": "white",
            "ticks": ""
           },
           "bgcolor": "#E5ECF6",
           "radialaxis": {
            "gridcolor": "white",
            "linecolor": "white",
            "ticks": ""
           }
          },
          "scene": {
           "xaxis": {
            "backgroundcolor": "#E5ECF6",
            "gridcolor": "white",
            "gridwidth": 2,
            "linecolor": "white",
            "showbackground": true,
            "ticks": "",
            "zerolinecolor": "white"
           },
           "yaxis": {
            "backgroundcolor": "#E5ECF6",
            "gridcolor": "white",
            "gridwidth": 2,
            "linecolor": "white",
            "showbackground": true,
            "ticks": "",
            "zerolinecolor": "white"
           },
           "zaxis": {
            "backgroundcolor": "#E5ECF6",
            "gridcolor": "white",
            "gridwidth": 2,
            "linecolor": "white",
            "showbackground": true,
            "ticks": "",
            "zerolinecolor": "white"
           }
          },
          "shapedefaults": {
           "line": {
            "color": "#2a3f5f"
           }
          },
          "ternary": {
           "aaxis": {
            "gridcolor": "white",
            "linecolor": "white",
            "ticks": ""
           },
           "baxis": {
            "gridcolor": "white",
            "linecolor": "white",
            "ticks": ""
           },
           "bgcolor": "#E5ECF6",
           "caxis": {
            "gridcolor": "white",
            "linecolor": "white",
            "ticks": ""
           }
          },
          "title": {
           "x": 0.05
          },
          "xaxis": {
           "automargin": true,
           "gridcolor": "white",
           "linecolor": "white",
           "ticks": "",
           "title": {
            "standoff": 15
           },
           "zerolinecolor": "white",
           "zerolinewidth": 2
          },
          "yaxis": {
           "automargin": true,
           "gridcolor": "white",
           "linecolor": "white",
           "ticks": "",
           "title": {
            "standoff": 15
           },
           "zerolinecolor": "white",
           "zerolinewidth": 2
          }
         }
        },
        "xaxis": {
         "anchor": "y",
         "domain": [
          0,
          1
         ],
         "title": {
          "text": "num_transactions"
         }
        },
        "yaxis": {
         "anchor": "x",
         "domain": [
          0,
          1
         ],
         "title": {
          "text": "total_revenue"
         }
        }
       }
      },
      "text/html": [
       "<div>                            <div id=\"1489eb7f-9aeb-40e3-9799-1ac62e067e0b\" class=\"plotly-graph-div\" style=\"height:525px; width:100%;\"></div>            <script type=\"text/javascript\">                require([\"plotly\"], function(Plotly) {                    window.PLOTLYENV=window.PLOTLYENV || {};                                    if (document.getElementById(\"1489eb7f-9aeb-40e3-9799-1ac62e067e0b\")) {                    Plotly.newPlot(                        \"1489eb7f-9aeb-40e3-9799-1ac62e067e0b\",                        [{\"hovertemplate\": \"firstName=Gerard<br>num_transactions=%{x}<br>total_revenue=%{y}<br>average=%{marker.size}<extra></extra>\", \"legendgroup\": \"Gerard\", \"marker\": {\"color\": \"#636efa\", \"size\": [38344.95896551724], \"sizemode\": \"area\", \"sizeref\": 117.84601785714287, \"symbol\": \"circle\"}, \"mode\": \"markers\", \"name\": \"Gerard\", \"orientation\": \"v\", \"showlegend\": true, \"type\": \"scatter\", \"x\": [29], \"xaxis\": \"x\", \"y\": [1112003.8099999998], \"yaxis\": \"y\"}, {\"hovertemplate\": \"firstName=Leslie<br>num_transactions=%{x}<br>total_revenue=%{y}<br>average=%{marker.size}<extra></extra>\", \"legendgroup\": \"Leslie\", \"marker\": {\"color\": \"#EF553B\", \"size\": [47138.40714285715, 26733.31], \"sizemode\": \"area\", \"sizeref\": 117.84601785714287, \"symbol\": \"circle\"}, \"mode\": \"markers\", \"name\": \"Leslie\", \"orientation\": \"v\", \"showlegend\": true, \"type\": \"scatter\", \"x\": [21, 13], \"xaxis\": \"x\", \"y\": [989906.5500000002, 347533.03], \"yaxis\": \"y\"}, {\"hovertemplate\": \"firstName=Pamela<br>num_transactions=%{x}<br>total_revenue=%{y}<br>average=%{marker.size}<extra></extra>\", \"legendgroup\": \"Pamela\", \"marker\": {\"color\": \"#00cc96\", \"size\": [27785.254444444443], \"sizemode\": \"area\", \"sizeref\": 117.84601785714287, \"symbol\": \"circle\"}, \"mode\": \"markers\", \"name\": \"Pamela\", \"orientation\": \"v\", \"showlegend\": true, \"type\": \"scatter\", \"x\": [27], \"xaxis\": \"x\", \"y\": [750201.87], \"yaxis\": \"y\"}, {\"hovertemplate\": \"firstName=Larry<br>num_transactions=%{x}<br>total_revenue=%{y}<br>average=%{marker.size}<extra></extra>\", \"legendgroup\": \"Larry\", \"marker\": {\"color\": \"#ab63fa\", \"size\": [32697.77380952381], \"sizemode\": \"area\", \"sizeref\": 117.84601785714287, \"symbol\": \"circle\"}, \"mode\": \"markers\", \"name\": \"Larry\", \"orientation\": \"v\", \"showlegend\": true, \"type\": \"scatter\", \"x\": [21], \"xaxis\": \"x\", \"y\": [686653.25], \"yaxis\": \"y\"}, {\"hovertemplate\": \"firstName=Barry<br>num_transactions=%{x}<br>total_revenue=%{y}<br>average=%{marker.size}<extra></extra>\", \"legendgroup\": \"Barry\", \"marker\": {\"color\": \"#FFA15A\", \"size\": [30365.364285714288], \"sizemode\": \"area\", \"sizeref\": 117.84601785714287, \"symbol\": \"circle\"}, \"mode\": \"markers\", \"name\": \"Barry\", \"orientation\": \"v\", \"showlegend\": true, \"type\": \"scatter\", \"x\": [21], \"xaxis\": \"x\", \"y\": [637672.65], \"yaxis\": \"y\"}, {\"hovertemplate\": \"firstName=George<br>num_transactions=%{x}<br>total_revenue=%{y}<br>average=%{marker.size}<extra></extra>\", \"legendgroup\": \"George\", \"marker\": {\"color\": \"#19d3f3\", \"size\": [29220.339999999997], \"sizemode\": \"area\", \"sizeref\": 117.84601785714287, \"symbol\": \"circle\"}, \"mode\": \"markers\", \"name\": \"George\", \"orientation\": \"v\", \"showlegend\": true, \"type\": \"scatter\", \"x\": [20], \"xaxis\": \"x\", \"y\": [584406.7999999999], \"yaxis\": \"y\"}, {\"hovertemplate\": \"firstName=Loui<br>num_transactions=%{x}<br>total_revenue=%{y}<br>average=%{marker.size}<extra></extra>\", \"legendgroup\": \"Loui\", \"marker\": {\"color\": \"#FF6692\", \"size\": [29972.934210526317], \"sizemode\": \"area\", \"sizeref\": 117.84601785714287, \"symbol\": \"circle\"}, \"mode\": \"markers\", \"name\": \"Loui\", \"orientation\": \"v\", \"showlegend\": true, \"type\": \"scatter\", \"x\": [19], \"xaxis\": \"x\", \"y\": [569485.75], \"yaxis\": \"y\"}, {\"hovertemplate\": \"firstName=Andy<br>num_transactions=%{x}<br>total_revenue=%{y}<br>average=%{marker.size}<extra></extra>\", \"legendgroup\": \"Andy\", \"marker\": {\"color\": \"#B6E880\", \"size\": [31836.613749999997], \"sizemode\": \"area\", \"sizeref\": 117.84601785714287, \"symbol\": \"circle\"}, \"mode\": \"markers\", \"name\": \"Andy\", \"orientation\": \"v\", \"showlegend\": true, \"type\": \"scatter\", \"x\": [16], \"xaxis\": \"x\", \"y\": [509385.81999999995], \"yaxis\": \"y\"}, {\"hovertemplate\": \"firstName=Peter<br>num_transactions=%{x}<br>total_revenue=%{y}<br>average=%{marker.size}<extra></extra>\", \"legendgroup\": \"Peter\", \"marker\": {\"color\": \"#FF97FF\", \"size\": [35564.79714285715], \"sizemode\": \"area\", \"sizeref\": 117.84601785714287, \"symbol\": \"circle\"}, \"mode\": \"markers\", \"name\": \"Peter\", \"orientation\": \"v\", \"showlegend\": true, \"type\": \"scatter\", \"x\": [14], \"xaxis\": \"x\", \"y\": [497907.16000000003], \"yaxis\": \"y\"}, {\"hovertemplate\": \"firstName=Foon Yue<br>num_transactions=%{x}<br>total_revenue=%{y}<br>average=%{marker.size}<extra></extra>\", \"legendgroup\": \"Foon Yue\", \"marker\": {\"color\": \"#FECB52\", \"size\": [28718.392352941177], \"sizemode\": \"area\", \"sizeref\": 117.84601785714287, \"symbol\": \"circle\"}, \"mode\": \"markers\", \"name\": \"Foon Yue\", \"orientation\": \"v\", \"showlegend\": true, \"type\": \"scatter\", \"x\": [17], \"xaxis\": \"x\", \"y\": [488212.67], \"yaxis\": \"y\"}, {\"hovertemplate\": \"firstName=Mami<br>num_transactions=%{x}<br>total_revenue=%{y}<br>average=%{marker.size}<extra></extra>\", \"legendgroup\": \"Mami\", \"marker\": {\"color\": \"#636efa\", \"size\": [32650.719285714284], \"sizemode\": \"area\", \"sizeref\": 117.84601785714287, \"symbol\": \"circle\"}, \"mode\": \"markers\", \"name\": \"Mami\", \"orientation\": \"v\", \"showlegend\": true, \"type\": \"scatter\", \"x\": [14], \"xaxis\": \"x\", \"y\": [457110.06999999995], \"yaxis\": \"y\"}, {\"hovertemplate\": \"firstName=Steve<br>num_transactions=%{x}<br>total_revenue=%{y}<br>average=%{marker.size}<extra></extra>\", \"legendgroup\": \"Steve\", \"marker\": {\"color\": \"#EF553B\", \"size\": [29947.942000000003], \"sizemode\": \"area\", \"sizeref\": 117.84601785714287, \"symbol\": \"circle\"}, \"mode\": \"markers\", \"name\": \"Steve\", \"orientation\": \"v\", \"showlegend\": true, \"type\": \"scatter\", \"x\": [15], \"xaxis\": \"x\", \"y\": [449219.13000000006], \"yaxis\": \"y\"}, {\"hovertemplate\": \"firstName=Martin<br>num_transactions=%{x}<br>total_revenue=%{y}<br>average=%{marker.size}<extra></extra>\", \"legendgroup\": \"Martin\", \"marker\": {\"color\": \"#00cc96\", \"size\": [32289.789166666666], \"sizemode\": \"area\", \"sizeref\": 117.84601785714287, \"symbol\": \"circle\"}, \"mode\": \"markers\", \"name\": \"Martin\", \"orientation\": \"v\", \"showlegend\": true, \"type\": \"scatter\", \"x\": [12], \"xaxis\": \"x\", \"y\": [387477.47], \"yaxis\": \"y\"}, {\"hovertemplate\": \"firstName=Julie<br>num_transactions=%{x}<br>total_revenue=%{y}<br>average=%{marker.size}<extra></extra>\", \"legendgroup\": \"Julie\", \"marker\": {\"color\": \"#ab63fa\", \"size\": [27618.799999999996], \"sizemode\": \"area\", \"sizeref\": 117.84601785714287, \"symbol\": \"circle\"}, \"mode\": \"markers\", \"name\": \"Julie\", \"orientation\": \"v\", \"showlegend\": true, \"type\": \"scatter\", \"x\": [14], \"xaxis\": \"x\", \"y\": [386663.19999999995], \"yaxis\": \"y\"}],                        {\"legend\": {\"itemsizing\": \"constant\", \"title\": {\"text\": \"firstName\"}, \"tracegroupgap\": 0}, \"margin\": {\"t\": 60}, \"template\": {\"data\": {\"bar\": [{\"error_x\": {\"color\": \"#2a3f5f\"}, \"error_y\": {\"color\": \"#2a3f5f\"}, \"marker\": {\"line\": {\"color\": \"#E5ECF6\", \"width\": 0.5}}, \"type\": \"bar\"}], \"barpolar\": [{\"marker\": {\"line\": {\"color\": \"#E5ECF6\", \"width\": 0.5}}, \"type\": \"barpolar\"}], \"carpet\": [{\"aaxis\": {\"endlinecolor\": \"#2a3f5f\", \"gridcolor\": \"white\", \"linecolor\": \"white\", \"minorgridcolor\": \"white\", \"startlinecolor\": \"#2a3f5f\"}, \"baxis\": {\"endlinecolor\": \"#2a3f5f\", \"gridcolor\": \"white\", \"linecolor\": \"white\", \"minorgridcolor\": \"white\", \"startlinecolor\": \"#2a3f5f\"}, \"type\": \"carpet\"}], \"choropleth\": [{\"colorbar\": {\"outlinewidth\": 0, \"ticks\": \"\"}, \"type\": \"choropleth\"}], \"contour\": [{\"colorbar\": {\"outlinewidth\": 0, \"ticks\": \"\"}, \"colorscale\": [[0.0, \"#0d0887\"], [0.1111111111111111, \"#46039f\"], [0.2222222222222222, \"#7201a8\"], [0.3333333333333333, \"#9c179e\"], [0.4444444444444444, \"#bd3786\"], [0.5555555555555556, \"#d8576b\"], [0.6666666666666666, \"#ed7953\"], [0.7777777777777778, \"#fb9f3a\"], [0.8888888888888888, \"#fdca26\"], [1.0, \"#f0f921\"]], \"type\": \"contour\"}], \"contourcarpet\": [{\"colorbar\": {\"outlinewidth\": 0, \"ticks\": \"\"}, \"type\": \"contourcarpet\"}], \"heatmap\": [{\"colorbar\": {\"outlinewidth\": 0, \"ticks\": \"\"}, \"colorscale\": [[0.0, \"#0d0887\"], [0.1111111111111111, \"#46039f\"], [0.2222222222222222, \"#7201a8\"], [0.3333333333333333, \"#9c179e\"], [0.4444444444444444, \"#bd3786\"], [0.5555555555555556, \"#d8576b\"], [0.6666666666666666, \"#ed7953\"], [0.7777777777777778, \"#fb9f3a\"], [0.8888888888888888, \"#fdca26\"], [1.0, \"#f0f921\"]], \"type\": \"heatmap\"}], \"heatmapgl\": [{\"colorbar\": {\"outlinewidth\": 0, \"ticks\": \"\"}, \"colorscale\": [[0.0, \"#0d0887\"], [0.1111111111111111, \"#46039f\"], [0.2222222222222222, \"#7201a8\"], [0.3333333333333333, \"#9c179e\"], [0.4444444444444444, \"#bd3786\"], [0.5555555555555556, \"#d8576b\"], [0.6666666666666666, \"#ed7953\"], [0.7777777777777778, \"#fb9f3a\"], [0.8888888888888888, \"#fdca26\"], [1.0, \"#f0f921\"]], \"type\": \"heatmapgl\"}], \"histogram\": [{\"marker\": {\"colorbar\": {\"outlinewidth\": 0, \"ticks\": \"\"}}, \"type\": \"histogram\"}], \"histogram2d\": [{\"colorbar\": {\"outlinewidth\": 0, \"ticks\": \"\"}, \"colorscale\": [[0.0, \"#0d0887\"], [0.1111111111111111, \"#46039f\"], [0.2222222222222222, \"#7201a8\"], [0.3333333333333333, \"#9c179e\"], [0.4444444444444444, \"#bd3786\"], [0.5555555555555556, \"#d8576b\"], [0.6666666666666666, \"#ed7953\"], [0.7777777777777778, \"#fb9f3a\"], [0.8888888888888888, \"#fdca26\"], [1.0, \"#f0f921\"]], \"type\": \"histogram2d\"}], \"histogram2dcontour\": [{\"colorbar\": {\"outlinewidth\": 0, \"ticks\": \"\"}, \"colorscale\": [[0.0, \"#0d0887\"], [0.1111111111111111, \"#46039f\"], [0.2222222222222222, \"#7201a8\"], [0.3333333333333333, \"#9c179e\"], [0.4444444444444444, \"#bd3786\"], [0.5555555555555556, \"#d8576b\"], [0.6666666666666666, \"#ed7953\"], [0.7777777777777778, \"#fb9f3a\"], [0.8888888888888888, \"#fdca26\"], [1.0, \"#f0f921\"]], \"type\": \"histogram2dcontour\"}], \"mesh3d\": [{\"colorbar\": {\"outlinewidth\": 0, \"ticks\": \"\"}, \"type\": \"mesh3d\"}], \"parcoords\": [{\"line\": {\"colorbar\": {\"outlinewidth\": 0, \"ticks\": \"\"}}, \"type\": \"parcoords\"}], \"pie\": [{\"automargin\": true, \"type\": \"pie\"}], \"scatter\": [{\"marker\": {\"colorbar\": {\"outlinewidth\": 0, \"ticks\": \"\"}}, \"type\": \"scatter\"}], \"scatter3d\": [{\"line\": {\"colorbar\": {\"outlinewidth\": 0, \"ticks\": \"\"}}, \"marker\": {\"colorbar\": {\"outlinewidth\": 0, \"ticks\": \"\"}}, \"type\": \"scatter3d\"}], \"scattercarpet\": [{\"marker\": {\"colorbar\": {\"outlinewidth\": 0, \"ticks\": \"\"}}, \"type\": \"scattercarpet\"}], \"scattergeo\": [{\"marker\": {\"colorbar\": {\"outlinewidth\": 0, \"ticks\": \"\"}}, \"type\": \"scattergeo\"}], \"scattergl\": [{\"marker\": {\"colorbar\": {\"outlinewidth\": 0, \"ticks\": \"\"}}, \"type\": \"scattergl\"}], \"scattermapbox\": [{\"marker\": {\"colorbar\": {\"outlinewidth\": 0, \"ticks\": \"\"}}, \"type\": \"scattermapbox\"}], \"scatterpolar\": [{\"marker\": {\"colorbar\": {\"outlinewidth\": 0, \"ticks\": \"\"}}, \"type\": \"scatterpolar\"}], \"scatterpolargl\": [{\"marker\": {\"colorbar\": {\"outlinewidth\": 0, \"ticks\": \"\"}}, \"type\": \"scatterpolargl\"}], \"scatterternary\": [{\"marker\": {\"colorbar\": {\"outlinewidth\": 0, \"ticks\": \"\"}}, \"type\": \"scatterternary\"}], \"surface\": [{\"colorbar\": {\"outlinewidth\": 0, \"ticks\": \"\"}, \"colorscale\": [[0.0, \"#0d0887\"], [0.1111111111111111, \"#46039f\"], [0.2222222222222222, \"#7201a8\"], [0.3333333333333333, \"#9c179e\"], [0.4444444444444444, \"#bd3786\"], [0.5555555555555556, \"#d8576b\"], [0.6666666666666666, \"#ed7953\"], [0.7777777777777778, \"#fb9f3a\"], [0.8888888888888888, \"#fdca26\"], [1.0, \"#f0f921\"]], \"type\": \"surface\"}], \"table\": [{\"cells\": {\"fill\": {\"color\": \"#EBF0F8\"}, \"line\": {\"color\": \"white\"}}, \"header\": {\"fill\": {\"color\": \"#C8D4E3\"}, \"line\": {\"color\": \"white\"}}, \"type\": \"table\"}]}, \"layout\": {\"annotationdefaults\": {\"arrowcolor\": \"#2a3f5f\", \"arrowhead\": 0, \"arrowwidth\": 1}, \"coloraxis\": {\"colorbar\": {\"outlinewidth\": 0, \"ticks\": \"\"}}, \"colorscale\": {\"diverging\": [[0, \"#8e0152\"], [0.1, \"#c51b7d\"], [0.2, \"#de77ae\"], [0.3, \"#f1b6da\"], [0.4, \"#fde0ef\"], [0.5, \"#f7f7f7\"], [0.6, \"#e6f5d0\"], [0.7, \"#b8e186\"], [0.8, \"#7fbc41\"], [0.9, \"#4d9221\"], [1, \"#276419\"]], \"sequential\": [[0.0, \"#0d0887\"], [0.1111111111111111, \"#46039f\"], [0.2222222222222222, \"#7201a8\"], [0.3333333333333333, \"#9c179e\"], [0.4444444444444444, \"#bd3786\"], [0.5555555555555556, \"#d8576b\"], [0.6666666666666666, \"#ed7953\"], [0.7777777777777778, \"#fb9f3a\"], [0.8888888888888888, \"#fdca26\"], [1.0, \"#f0f921\"]], \"sequentialminus\": [[0.0, \"#0d0887\"], [0.1111111111111111, \"#46039f\"], [0.2222222222222222, \"#7201a8\"], [0.3333333333333333, \"#9c179e\"], [0.4444444444444444, \"#bd3786\"], [0.5555555555555556, \"#d8576b\"], [0.6666666666666666, \"#ed7953\"], [0.7777777777777778, \"#fb9f3a\"], [0.8888888888888888, \"#fdca26\"], [1.0, \"#f0f921\"]]}, \"colorway\": [\"#636efa\", \"#EF553B\", \"#00cc96\", \"#ab63fa\", \"#FFA15A\", \"#19d3f3\", \"#FF6692\", \"#B6E880\", \"#FF97FF\", \"#FECB52\"], \"font\": {\"color\": \"#2a3f5f\"}, \"geo\": {\"bgcolor\": \"white\", \"lakecolor\": \"white\", \"landcolor\": \"#E5ECF6\", \"showlakes\": true, \"showland\": true, \"subunitcolor\": \"white\"}, \"hoverlabel\": {\"align\": \"left\"}, \"hovermode\": \"closest\", \"mapbox\": {\"style\": \"light\"}, \"paper_bgcolor\": \"white\", \"plot_bgcolor\": \"#E5ECF6\", \"polar\": {\"angularaxis\": {\"gridcolor\": \"white\", \"linecolor\": \"white\", \"ticks\": \"\"}, \"bgcolor\": \"#E5ECF6\", \"radialaxis\": {\"gridcolor\": \"white\", \"linecolor\": \"white\", \"ticks\": \"\"}}, \"scene\": {\"xaxis\": {\"backgroundcolor\": \"#E5ECF6\", \"gridcolor\": \"white\", \"gridwidth\": 2, \"linecolor\": \"white\", \"showbackground\": true, \"ticks\": \"\", \"zerolinecolor\": \"white\"}, \"yaxis\": {\"backgroundcolor\": \"#E5ECF6\", \"gridcolor\": \"white\", \"gridwidth\": 2, \"linecolor\": \"white\", \"showbackground\": true, \"ticks\": \"\", \"zerolinecolor\": \"white\"}, \"zaxis\": {\"backgroundcolor\": \"#E5ECF6\", \"gridcolor\": \"white\", \"gridwidth\": 2, \"linecolor\": \"white\", \"showbackground\": true, \"ticks\": \"\", \"zerolinecolor\": \"white\"}}, \"shapedefaults\": {\"line\": {\"color\": \"#2a3f5f\"}}, \"ternary\": {\"aaxis\": {\"gridcolor\": \"white\", \"linecolor\": \"white\", \"ticks\": \"\"}, \"baxis\": {\"gridcolor\": \"white\", \"linecolor\": \"white\", \"ticks\": \"\"}, \"bgcolor\": \"#E5ECF6\", \"caxis\": {\"gridcolor\": \"white\", \"linecolor\": \"white\", \"ticks\": \"\"}}, \"title\": {\"x\": 0.05}, \"xaxis\": {\"automargin\": true, \"gridcolor\": \"white\", \"linecolor\": \"white\", \"ticks\": \"\", \"title\": {\"standoff\": 15}, \"zerolinecolor\": \"white\", \"zerolinewidth\": 2}, \"yaxis\": {\"automargin\": true, \"gridcolor\": \"white\", \"linecolor\": \"white\", \"ticks\": \"\", \"title\": {\"standoff\": 15}, \"zerolinecolor\": \"white\", \"zerolinewidth\": 2}}}, \"xaxis\": {\"anchor\": \"y\", \"domain\": [0.0, 1.0], \"title\": {\"text\": \"num_transactions\"}}, \"yaxis\": {\"anchor\": \"x\", \"domain\": [0.0, 1.0], \"title\": {\"text\": \"total_revenue\"}}},                        {\"responsive\": true}                    ).then(function(){\n",
       "                            \n",
       "var gd = document.getElementById('1489eb7f-9aeb-40e3-9799-1ac62e067e0b');\n",
       "var x = new MutationObserver(function (mutations, observer) {{\n",
       "        var display = window.getComputedStyle(gd).display;\n",
       "        if (!display || display === 'none') {{\n",
       "            console.log([gd, 'removed!']);\n",
       "            Plotly.purge(gd);\n",
       "            observer.disconnect();\n",
       "        }}\n",
       "}});\n",
       "\n",
       "// Listen for the removal of the full notebook cells\n",
       "var notebookContainer = gd.closest('#notebook-container');\n",
       "if (notebookContainer) {{\n",
       "    x.observe(notebookContainer, {childList: true});\n",
       "}}\n",
       "\n",
       "// Listen for the clearing of the current output cell\n",
       "var outputEl = gd.closest('.output');\n",
       "if (outputEl) {{\n",
       "    x.observe(outputEl, {childList: true});\n",
       "}}\n",
       "\n",
       "                        })                };                });            </script>        </div>"
      ]
     },
     "metadata": {},
     "output_type": "display_data"
    }
   ],
   "source": [
    "import plotly.express as px\n",
    "\n",
    "px.scatter(data_frame=query4_df.dropna(), x='num_transactions', y='total_revenue', color='firstName', size='average')"
   ]
  },
  {
   "cell_type": "code",
   "execution_count": 7,
   "metadata": {},
   "outputs": [
    {
     "name": "stderr",
     "output_type": "stream",
     "text": [
      "posx and posy should be finite values\n",
      "posx and posy should be finite values\n",
      "posx and posy should be finite values\n",
      "posx and posy should be finite values\n",
      "posx and posy should be finite values\n",
      "posx and posy should be finite values\n",
      "posx and posy should be finite values\n",
      "posx and posy should be finite values\n",
      "posx and posy should be finite values\n",
      "posx and posy should be finite values\n",
      "posx and posy should be finite values\n",
      "posx and posy should be finite values\n",
      "posx and posy should be finite values\n",
      "posx and posy should be finite values\n",
      "posx and posy should be finite values\n",
      "posx and posy should be finite values\n"
     ]
    },
    {
     "data": {
      "image/png": "[encoded data removed]",
      "text/plain": [
       "<Figure size 576x576 with 1 Axes>"
      ]
     },
     "metadata": {
      "needs_background": "light"
     },
     "output_type": "display_data"
    }
   ],
   "source": [
    "import seaborn as sns\n",
    "import numpy as np\n",
    "import matplotlib.pyplot as plt\n",
    "%matplotlib inline\n",
    "\n",
    "\n",
    "\n",
    "plt.figure(figsize=(8,8))\n",
    "plt.title('Total Revenue per Number of Transactions for each Employee')\n",
    "plt.xlim(0,30,5)\n",
    "plt.ylim(0,1150000,50000)\n",
    "p1 = sns.scatterplot(data=query4_df, x='num_transactions', y='total_revenue', hue='firstName')\n",
    "\n",
    "for index, rep in query4_df.iterrows():\n",
    "    p1.text(rep['num_transactions'], rep['total_revenue'], \n",
    "            rep['firstName'])\n",
    "\n"
   ]
  },
  {
   "cell_type": "code",
   "execution_count": 10,
   "metadata": {},
   "outputs": [
    {
     "data": {
      "text/html": [
       "<div>\n",
       "<style scoped>\n",
       "    .dataframe tbody tr th:only-of-type {\n",
       "        vertical-align: middle;\n",
       "    }\n",
       "\n",
       "    .dataframe tbody tr th {\n",
       "        vertical-align: top;\n",
       "    }\n",
       "\n",
       "    .dataframe thead th {\n",
       "        text-align: right;\n",
       "    }\n",
       "</style>\n",
       "<table border=\"1\" class=\"dataframe\">\n",
       "  <thead>\n",
       "    <tr style=\"text-align: right;\">\n",
       "      <th></th>\n",
       "      <th>city</th>\n",
       "      <th>total_revenue</th>\n",
       "      <th>total_employees</th>\n",
       "    </tr>\n",
       "  </thead>\n",
       "  <tbody>\n",
       "    <tr>\n",
       "      <th>0</th>\n",
       "      <td>Paris</td>\n",
       "      <td>2819168.90</td>\n",
       "      <td>123384</td>\n",
       "    </tr>\n",
       "    <tr>\n",
       "      <th>1</th>\n",
       "      <td>San Francisco</td>\n",
       "      <td>1337439.58</td>\n",
       "      <td>39623</td>\n",
       "    </tr>\n",
       "    <tr>\n",
       "      <th>2</th>\n",
       "      <td>London</td>\n",
       "      <td>1324325.90</td>\n",
       "      <td>63105</td>\n",
       "    </tr>\n",
       "    <tr>\n",
       "      <th>3</th>\n",
       "      <td>NYC</td>\n",
       "      <td>1072619.47</td>\n",
       "      <td>48322</td>\n",
       "    </tr>\n",
       "    <tr>\n",
       "      <th>4</th>\n",
       "      <td>Sydney</td>\n",
       "      <td>1007292.98</td>\n",
       "      <td>48344</td>\n",
       "    </tr>\n",
       "    <tr>\n",
       "      <th>5</th>\n",
       "      <td>Boston</td>\n",
       "      <td>835882.33</td>\n",
       "      <td>34872</td>\n",
       "    </tr>\n",
       "    <tr>\n",
       "      <th>6</th>\n",
       "      <td>Tokyo</td>\n",
       "      <td>457110.07</td>\n",
       "      <td>22694</td>\n",
       "    </tr>\n",
       "  </tbody>\n",
       "</table>\n",
       "</div>"
      ],
      "text/plain": [
       "            city  total_revenue  total_employees\n",
       "0          Paris     2819168.90           123384\n",
       "1  San Francisco     1337439.58            39623\n",
       "2         London     1324325.90            63105\n",
       "3            NYC     1072619.47            48322\n",
       "4         Sydney     1007292.98            48344\n",
       "5         Boston      835882.33            34872\n",
       "6          Tokyo      457110.07            22694"
      ]
     },
     "execution_count": 10,
     "metadata": {},
     "output_type": "execute_result"
    }
   ],
   "source": [
    "# How much revenue has each office brought in\n",
    "\n",
    "query5 = '''SELECT o.city, SUM(p.amount) AS total_revenue, SUM(e.employeeNumber) AS total_employees\n",
    "            FROM offices o\n",
    "            JOIN employees e USING(officeCode)\n",
    "            JOIN customers c ON e.employeeNumber = c.salesRepEmployeeNumber\n",
    "            JOIN payments p USING(customerNumber)\n",
    "            GROUP BY o.city\n",
    "            ORDER BY total_revenue DESC\n",
    "            ;'''\n",
    "query_to_df(query5)"
   ]
  },
  {
   "cell_type": "code",
   "execution_count": 11,
   "metadata": {},
   "outputs": [
    {
     "data": {
      "image/png": "[encoded data removed]",
      "text/plain": [
       "<Figure size 576x432 with 1 Axes>"
      ]
     },
     "metadata": {
      "needs_background": "light"
     },
     "output_type": "display_data"
    }
   ],
   "source": [
    "query5_df = query_to_df(query5)\n",
    "\n",
    "plt.figure(figsize=(8,6))\n",
    "plt.title('Total Revenue & Employee Count per Office')\n",
    "plt.xlim(20000,150000,20000)\n",
    "plt.ylim(400000,3000000,500000)\n",
    "p1 = sns.scatterplot(data=query5_df, x='total_employees', y='total_revenue', hue='city')\n",
    "\n",
    "for index, rep in enumerate(query5_df):\n",
    "    p1.text(query5_df['total_employees'][index], query5_df['total_revenue'][index], \n",
    "            query5_df['city'][index])"
   ]
  },
  {
   "cell_type": "code",
   "execution_count": 12,
   "metadata": {
    "scrolled": true
   },
   "outputs": [
    {
     "data": {
      "text/html": [
       "<div>\n",
       "<style scoped>\n",
       "    .dataframe tbody tr th:only-of-type {\n",
       "        vertical-align: middle;\n",
       "    }\n",
       "\n",
       "    .dataframe tbody tr th {\n",
       "        vertical-align: top;\n",
       "    }\n",
       "\n",
       "    .dataframe thead th {\n",
       "        text-align: right;\n",
       "    }\n",
       "</style>\n",
       "<table border=\"1\" class=\"dataframe\">\n",
       "  <thead>\n",
       "    <tr style=\"text-align: right;\">\n",
       "      <th></th>\n",
       "      <th>productLine</th>\n",
       "      <th>total_ordered</th>\n",
       "    </tr>\n",
       "  </thead>\n",
       "  <tbody>\n",
       "    <tr>\n",
       "      <th>0</th>\n",
       "      <td>Classic Cars</td>\n",
       "      <td>35582</td>\n",
       "    </tr>\n",
       "    <tr>\n",
       "      <th>1</th>\n",
       "      <td>Vintage Cars</td>\n",
       "      <td>22933</td>\n",
       "    </tr>\n",
       "    <tr>\n",
       "      <th>2</th>\n",
       "      <td>Motorcycles</td>\n",
       "      <td>12778</td>\n",
       "    </tr>\n",
       "    <tr>\n",
       "      <th>3</th>\n",
       "      <td>Planes</td>\n",
       "      <td>11872</td>\n",
       "    </tr>\n",
       "    <tr>\n",
       "      <th>4</th>\n",
       "      <td>Trucks and Buses</td>\n",
       "      <td>11001</td>\n",
       "    </tr>\n",
       "    <tr>\n",
       "      <th>5</th>\n",
       "      <td>Ships</td>\n",
       "      <td>8532</td>\n",
       "    </tr>\n",
       "    <tr>\n",
       "      <th>6</th>\n",
       "      <td>Trains</td>\n",
       "      <td>2818</td>\n",
       "    </tr>\n",
       "  </tbody>\n",
       "</table>\n",
       "</div>"
      ],
      "text/plain": [
       "        productLine  total_ordered\n",
       "0      Classic Cars          35582\n",
       "1      Vintage Cars          22933\n",
       "2       Motorcycles          12778\n",
       "3            Planes          11872\n",
       "4  Trucks and Buses          11001\n",
       "5             Ships           8532\n",
       "6            Trains           2818"
      ]
     },
     "execution_count": 12,
     "metadata": {},
     "output_type": "execute_result"
    }
   ],
   "source": [
    "# Which product line sells the best\n",
    "\n",
    "query6 = '''SELECT p.productLine, SUM(od.quantityOrdered) as total_ordered\n",
    "            FROM orderdetails od\n",
    "            JOIN products p USING(productCode)\n",
    "            JOIN orders o USING(orderNumber)\n",
    "            GROUP BY p.productLine\n",
    "            ORDER BY total_ordered DESC\n",
    "            ;'''\n",
    "query_to_df(query6)"
   ]
  },
  {
   "cell_type": "code",
   "execution_count": 13,
   "metadata": {},
   "outputs": [
    {
     "data": {
      "text/plain": [
       "''"
      ]
     },
     "execution_count": 13,
     "metadata": {},
     "output_type": "execute_result"
    },
    {
     "data": {
      "image/png": "[encoded data removed]",
      "text/plain": [
       "<Figure size 720x288 with 1 Axes>"
      ]
     },
     "metadata": {
      "needs_background": "light"
     },
     "output_type": "display_data"
    }
   ],
   "source": [
    "plt.figure(figsize=(10,4))\n",
    "plt.title('Best Selling Product Lines')\n",
    "p2 = sns.barplot(data=query_to_df(query6), x='productLine', y='total_ordered')\n",
    ";"
   ]
  },
  {
   "cell_type": "markdown",
   "metadata": {},
   "source": [
    "## Level Up: Display the names of every individual product that each employee has sold"
   ]
  },
  {
   "cell_type": "code",
   "execution_count": 14,
   "metadata": {},
   "outputs": [
    {
     "data": {
      "text/html": [
       "<div>\n",
       "<style scoped>\n",
       "    .dataframe tbody tr th:only-of-type {\n",
       "        vertical-align: middle;\n",
       "    }\n",
       "\n",
       "    .dataframe tbody tr th {\n",
       "        vertical-align: top;\n",
       "    }\n",
       "\n",
       "    .dataframe thead th {\n",
       "        text-align: right;\n",
       "    }\n",
       "</style>\n",
       "<table border=\"1\" class=\"dataframe\">\n",
       "  <thead>\n",
       "    <tr style=\"text-align: right;\">\n",
       "      <th></th>\n",
       "      <th>firstName</th>\n",
       "      <th>lastName</th>\n",
       "      <th>productName</th>\n",
       "    </tr>\n",
       "  </thead>\n",
       "  <tbody>\n",
       "    <tr>\n",
       "      <th>0</th>\n",
       "      <td>George</td>\n",
       "      <td>Vanauf</td>\n",
       "      <td>1969 Harley Davidson Ultimate Chopper</td>\n",
       "    </tr>\n",
       "    <tr>\n",
       "      <th>1</th>\n",
       "      <td>Martin</td>\n",
       "      <td>Gerard</td>\n",
       "      <td>The Titanic</td>\n",
       "    </tr>\n",
       "    <tr>\n",
       "      <th>2</th>\n",
       "      <td>Gerard</td>\n",
       "      <td>Hernandez</td>\n",
       "      <td>1965 Aston Martin DB5</td>\n",
       "    </tr>\n",
       "    <tr>\n",
       "      <th>3</th>\n",
       "      <td>Andy</td>\n",
       "      <td>Fixter</td>\n",
       "      <td>1996 Moto Guzzi 1100i</td>\n",
       "    </tr>\n",
       "    <tr>\n",
       "      <th>4</th>\n",
       "      <td>Leslie</td>\n",
       "      <td>Jennings</td>\n",
       "      <td>1958 Setra Bus</td>\n",
       "    </tr>\n",
       "    <tr>\n",
       "      <th>5</th>\n",
       "      <td>Pamela</td>\n",
       "      <td>Castillo</td>\n",
       "      <td>1972 Alfa Romeo GTA</td>\n",
       "    </tr>\n",
       "    <tr>\n",
       "      <th>6</th>\n",
       "      <td>Larry</td>\n",
       "      <td>Bott</td>\n",
       "      <td>1972 Alfa Romeo GTA</td>\n",
       "    </tr>\n",
       "    <tr>\n",
       "      <th>7</th>\n",
       "      <td>Leslie</td>\n",
       "      <td>Thompson</td>\n",
       "      <td>1917 Grand Touring Sedan</td>\n",
       "    </tr>\n",
       "    <tr>\n",
       "      <th>8</th>\n",
       "      <td>Steve</td>\n",
       "      <td>Patterson</td>\n",
       "      <td>2001 Ferrari Enzo</td>\n",
       "    </tr>\n",
       "    <tr>\n",
       "      <th>9</th>\n",
       "      <td>Foon Yue</td>\n",
       "      <td>Tseng</td>\n",
       "      <td>2001 Ferrari Enzo</td>\n",
       "    </tr>\n",
       "    <tr>\n",
       "      <th>10</th>\n",
       "      <td>Mami</td>\n",
       "      <td>Nishi</td>\n",
       "      <td>2001 Ferrari Enzo</td>\n",
       "    </tr>\n",
       "    <tr>\n",
       "      <th>11</th>\n",
       "      <td>Julie</td>\n",
       "      <td>Firrelli</td>\n",
       "      <td>1952 Alpine Renault 1300</td>\n",
       "    </tr>\n",
       "    <tr>\n",
       "      <th>12</th>\n",
       "      <td>Loui</td>\n",
       "      <td>Bondur</td>\n",
       "      <td>1952 Alpine Renault 1300</td>\n",
       "    </tr>\n",
       "    <tr>\n",
       "      <th>13</th>\n",
       "      <td>Barry</td>\n",
       "      <td>Jones</td>\n",
       "      <td>1952 Alpine Renault 1300</td>\n",
       "    </tr>\n",
       "    <tr>\n",
       "      <th>14</th>\n",
       "      <td>Peter</td>\n",
       "      <td>Marsh</td>\n",
       "      <td>1962 LanciaA Delta 16V</td>\n",
       "    </tr>\n",
       "  </tbody>\n",
       "</table>\n",
       "</div>"
      ],
      "text/plain": [
       "   firstName   lastName                            productName\n",
       "0     George     Vanauf  1969 Harley Davidson Ultimate Chopper\n",
       "1     Martin     Gerard                            The Titanic\n",
       "2     Gerard  Hernandez                  1965 Aston Martin DB5\n",
       "3       Andy     Fixter                  1996 Moto Guzzi 1100i\n",
       "4     Leslie   Jennings                         1958 Setra Bus\n",
       "5     Pamela   Castillo                    1972 Alfa Romeo GTA\n",
       "6      Larry       Bott                    1972 Alfa Romeo GTA\n",
       "7     Leslie   Thompson               1917 Grand Touring Sedan\n",
       "8      Steve  Patterson                      2001 Ferrari Enzo\n",
       "9   Foon Yue      Tseng                      2001 Ferrari Enzo\n",
       "10      Mami      Nishi                      2001 Ferrari Enzo\n",
       "11     Julie   Firrelli               1952 Alpine Renault 1300\n",
       "12      Loui     Bondur               1952 Alpine Renault 1300\n",
       "13     Barry      Jones               1952 Alpine Renault 1300\n",
       "14     Peter      Marsh                 1962 LanciaA Delta 16V"
      ]
     },
     "execution_count": 14,
     "metadata": {},
     "output_type": "execute_result"
    }
   ],
   "source": [
    "query3 = '''SELECT e.firstName, e.lastName, p.productName\n",
    "            FROM employees e\n",
    "            JOIN customers c \n",
    "            ON e.employeeNumber = c.salesRepEmployeeNumber\n",
    "            JOIN orders o USING(customerNumber)\n",
    "            JOIN orderdetails od USING(orderNumber)\n",
    "            JOIN products p USING(productCode)\n",
    "            GROUP BY e.employeeNumber\n",
    "            ORDER BY p.buyPrice\n",
    "            ;'''\n",
    "query_to_df(query3)"
   ]
  },
  {
   "cell_type": "markdown",
   "metadata": {},
   "source": [
    "## Level Up: Display the Number of Products each employee has sold"
   ]
  },
  {
   "cell_type": "code",
   "execution_count": 15,
   "metadata": {},
   "outputs": [
    {
     "data": {
      "text/html": [
       "<div>\n",
       "<style scoped>\n",
       "    .dataframe tbody tr th:only-of-type {\n",
       "        vertical-align: middle;\n",
       "    }\n",
       "\n",
       "    .dataframe tbody tr th {\n",
       "        vertical-align: top;\n",
       "    }\n",
       "\n",
       "    .dataframe thead th {\n",
       "        text-align: right;\n",
       "    }\n",
       "</style>\n",
       "<table border=\"1\" class=\"dataframe\">\n",
       "  <thead>\n",
       "    <tr style=\"text-align: right;\">\n",
       "      <th></th>\n",
       "      <th>firstName</th>\n",
       "      <th>lastName</th>\n",
       "      <th>total_products_sold</th>\n",
       "    </tr>\n",
       "  </thead>\n",
       "  <tbody>\n",
       "    <tr>\n",
       "      <th>0</th>\n",
       "      <td>Gerard</td>\n",
       "      <td>Hernandez</td>\n",
       "      <td>14231</td>\n",
       "    </tr>\n",
       "    <tr>\n",
       "      <th>1</th>\n",
       "      <td>Leslie</td>\n",
       "      <td>Jennings</td>\n",
       "      <td>11854</td>\n",
       "    </tr>\n",
       "    <tr>\n",
       "      <th>2</th>\n",
       "      <td>Pamela</td>\n",
       "      <td>Castillo</td>\n",
       "      <td>9290</td>\n",
       "    </tr>\n",
       "    <tr>\n",
       "      <th>3</th>\n",
       "      <td>Larry</td>\n",
       "      <td>Bott</td>\n",
       "      <td>8205</td>\n",
       "    </tr>\n",
       "    <tr>\n",
       "      <th>4</th>\n",
       "      <td>Barry</td>\n",
       "      <td>Jones</td>\n",
       "      <td>7486</td>\n",
       "    </tr>\n",
       "    <tr>\n",
       "      <th>5</th>\n",
       "      <td>George</td>\n",
       "      <td>Vanauf</td>\n",
       "      <td>7423</td>\n",
       "    </tr>\n",
       "    <tr>\n",
       "      <th>6</th>\n",
       "      <td>Peter</td>\n",
       "      <td>Marsh</td>\n",
       "      <td>6632</td>\n",
       "    </tr>\n",
       "    <tr>\n",
       "      <th>7</th>\n",
       "      <td>Andy</td>\n",
       "      <td>Fixter</td>\n",
       "      <td>6246</td>\n",
       "    </tr>\n",
       "    <tr>\n",
       "      <th>8</th>\n",
       "      <td>Loui</td>\n",
       "      <td>Bondur</td>\n",
       "      <td>6186</td>\n",
       "    </tr>\n",
       "    <tr>\n",
       "      <th>9</th>\n",
       "      <td>Steve</td>\n",
       "      <td>Patterson</td>\n",
       "      <td>5561</td>\n",
       "    </tr>\n",
       "    <tr>\n",
       "      <th>10</th>\n",
       "      <td>Foon Yue</td>\n",
       "      <td>Tseng</td>\n",
       "      <td>5016</td>\n",
       "    </tr>\n",
       "    <tr>\n",
       "      <th>11</th>\n",
       "      <td>Mami</td>\n",
       "      <td>Nishi</td>\n",
       "      <td>4923</td>\n",
       "    </tr>\n",
       "    <tr>\n",
       "      <th>12</th>\n",
       "      <td>Julie</td>\n",
       "      <td>Firrelli</td>\n",
       "      <td>4227</td>\n",
       "    </tr>\n",
       "    <tr>\n",
       "      <th>13</th>\n",
       "      <td>Martin</td>\n",
       "      <td>Gerard</td>\n",
       "      <td>4180</td>\n",
       "    </tr>\n",
       "    <tr>\n",
       "      <th>14</th>\n",
       "      <td>Leslie</td>\n",
       "      <td>Thompson</td>\n",
       "      <td>4056</td>\n",
       "    </tr>\n",
       "  </tbody>\n",
       "</table>\n",
       "</div>"
      ],
      "text/plain": [
       "   firstName   lastName  total_products_sold\n",
       "0     Gerard  Hernandez                14231\n",
       "1     Leslie   Jennings                11854\n",
       "2     Pamela   Castillo                 9290\n",
       "3      Larry       Bott                 8205\n",
       "4      Barry      Jones                 7486\n",
       "5     George     Vanauf                 7423\n",
       "6      Peter      Marsh                 6632\n",
       "7       Andy     Fixter                 6246\n",
       "8       Loui     Bondur                 6186\n",
       "9      Steve  Patterson                 5561\n",
       "10  Foon Yue      Tseng                 5016\n",
       "11      Mami      Nishi                 4923\n",
       "12     Julie   Firrelli                 4227\n",
       "13    Martin     Gerard                 4180\n",
       "14    Leslie   Thompson                 4056"
      ]
     },
     "execution_count": 15,
     "metadata": {},
     "output_type": "execute_result"
    }
   ],
   "source": [
    "query7 = '''SELECT e.firstName, e.lastName, SUM(od.quantityOrdered) AS total_products_sold\n",
    "            FROM employees e\n",
    "            JOIN customers c ON e.employeeNumber = c.salesRepEmployeeNumber\n",
    "            JOIN orders o USING(customerNumber)\n",
    "            JOIN orderdetails od USING(orderNumber)\n",
    "            GROUP BY e.employeeNumber\n",
    "            ORDER BY total_products_sold DESC\n",
    "            ;'''\n",
    "query_to_df(query7)"
   ]
  },
  {
   "cell_type": "markdown",
   "metadata": {},
   "source": [
    "## Summary"
   ]
  },
  {
   "cell_type": "markdown",
   "metadata": {},
   "source": [
    "Congrats! You practiced using join statements and leveraged your foreign keys knowledge!"
   ]
  }
 ],
 "metadata": {
  "kernelspec": {
   "display_name": "learn-env",
   "language": "python",
   "name": "learn-env"
  },
  "language_info": {
   "codemirror_mode": {
    "name": "ipython",
    "version": 3
   },
   "file_extension": ".py",
   "mimetype": "text/x-python",
   "name": "python",
   "nbconvert_exporter": "python",
   "pygments_lexer": "ipython3",
   "version": "3.8.5"
  },
  "toc": {
   "base_numbering": 1,
   "nav_menu": {},
   "number_sections": true,
   "sideBar": true,
   "skip_h1_title": false,
   "title_cell": "Table of Contents",
   "title_sidebar": "Contents",
   "toc_cell": false,
   "toc_position": {},
   "toc_section_display": true,
   "toc_window_display": false
  },
  "varInspector": {
   "cols": {
    "lenName": 16,
    "lenType": 16,
    "lenVar": 40
   },
   "kernels_config": {
    "python": {
     "delete_cmd_postfix": "",
     "delete_cmd_prefix": "del ",
     "library": "var_list.py",
     "varRefreshCmd": "print(var_dic_list())"
    },
    "r": {
     "delete_cmd_postfix": ") ",
     "delete_cmd_prefix": "rm(",
     "library": "var_list.r",
     "varRefreshCmd": "cat(var_dic_list()) "
    }
   },
   "types_to_exclude": [
    "module",
    "function",
    "builtin_function_or_method",
    "instance",
    "_Feature"
   ],
   "window_display": false
  },
  "widgets": {
   "application/vnd.jupyter.widget-state+json": {
    "state": {},
    "version_major": 2,
    "version_minor": 0
   }
  }
 },
 "nbformat": 4,
 "nbformat_minor": 2
}
